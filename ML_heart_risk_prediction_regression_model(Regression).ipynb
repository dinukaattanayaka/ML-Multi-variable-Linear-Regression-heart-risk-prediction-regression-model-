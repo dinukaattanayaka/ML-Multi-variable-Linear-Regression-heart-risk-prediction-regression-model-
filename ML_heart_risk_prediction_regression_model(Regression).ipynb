{
  "nbformat": 4,
  "nbformat_minor": 0,
  "metadata": {
    "colab": {
      "provenance": [],
      "authorship_tag": "ABX9TyNRYDhRdh6ukspSst07PzqQ",
      "include_colab_link": true
    },
    "kernelspec": {
      "name": "python3",
      "display_name": "Python 3"
    },
    "language_info": {
      "name": "python"
    }
  },
  "cells": [
    {
      "cell_type": "markdown",
      "metadata": {
        "id": "view-in-github",
        "colab_type": "text"
      },
      "source": [
        "<a href=\"https://colab.research.google.com/github/dinukaattanayaka/ML-Multi-variable-Linear-Regression-heart-risk-prediction-regression-model-/blob/main/ML_heart_risk_prediction_regression_model(Regression).ipynb\" target=\"_parent\"><img src=\"https://colab.research.google.com/assets/colab-badge.svg\" alt=\"Open In Colab\"/></a>"
      ]
    },
    {
      "cell_type": "code",
      "execution_count": 1,
      "metadata": {
        "colab": {
          "base_uri": "https://localhost:8080/"
        },
        "id": "qH7Op1NdL1-0",
        "outputId": "02f9480b-f665-4585-b50f-623c6d92242e"
      },
      "outputs": [
        {
          "output_type": "stream",
          "name": "stdout",
          "text": [
            "Mounted at /content/drive\n"
          ]
        }
      ],
      "source": [
        "from google.colab import drive\n",
        "drive.mount('/content/drive')"
      ]
    },
    {
      "cell_type": "code",
      "source": [
        "import pandas as pd\n",
        "import numpy as np\n",
        "\n",
        "dataset=pd.read_csv('/content/drive/MyDrive/machine learning/DAY 6 (Regression)/cardio_dataset.csv').values\n",
        "print(dataset, dataset.shape)\n"
      ],
      "metadata": {
        "colab": {
          "base_uri": "https://localhost:8080/"
        },
        "id": "xx1aIU2vMk2j",
        "outputId": "71e5799c-be69-4547-8040-8b891f56efff"
      },
      "execution_count": 4,
      "outputs": [
        {
          "output_type": "stream",
          "name": "stdout",
          "text": [
            "[[  1.   48.  236.  ...   1.    0.    1.1]\n",
            " [  0.   48.  260.  ...   1.    1.    7. ]\n",
            " [  0.   44.  187.  ...   1.    0.    7. ]\n",
            " ...\n",
            " [  0.   65.  212.  ...   0.    0.   30.6]\n",
            " [  0.   66.  184.  ...   0.    0.   23.8]\n",
            " [  1.   45.  203.  ...   1.    0.    1. ]] (6644, 8)\n"
          ]
        }
      ]
    },
    {
      "cell_type": "code",
      "source": [
        "data=dataset[:,0:7]\n",
        "target=dataset[:,7]\n",
        "\n",
        "print(data, data.shape)\n",
        "print(target, target.shape)"
      ],
      "metadata": {
        "colab": {
          "base_uri": "https://localhost:8080/"
        },
        "id": "qpGDGsOMNtgp",
        "outputId": "cc4490f6-dee4-4916-fd8c-c485c5222fd2"
      },
      "execution_count": 5,
      "outputs": [
        {
          "output_type": "stream",
          "name": "stdout",
          "text": [
            "[[  1.  48. 236. ...   0.   1.   0.]\n",
            " [  0.  48. 260. ...   0.   1.   1.]\n",
            " [  0.  44. 187. ...   1.   1.   0.]\n",
            " ...\n",
            " [  0.  65. 212. ...   1.   0.   0.]\n",
            " [  0.  66. 184. ...   0.   0.   0.]\n",
            " [  1.  45. 203. ...   0.   1.   0.]] (6644, 7)\n",
            "[ 1.1  7.   7.  ... 30.6 23.8  1. ] (6644,)\n"
          ]
        }
      ]
    },
    {
      "cell_type": "code",
      "source": [
        "from sklearn.model_selection import train_test_split\n",
        "\n",
        "train_data,test_data,train_target,test_target=train_test_split(data,target,test_size=0.1)"
      ],
      "metadata": {
        "id": "8MuhWm91ORvB"
      },
      "execution_count": 6,
      "outputs": []
    },
    {
      "cell_type": "code",
      "source": [
        "from sklearn.linear_model import LinearRegression\n",
        "\n",
        "model=LinearRegression()\n",
        "\n",
        "model.fit(train_data,train_target)\n",
        "predicted_target=model.predict(test_data)"
      ],
      "metadata": {
        "id": "0epJS7CvOdUy"
      },
      "execution_count": 7,
      "outputs": []
    },
    {
      "cell_type": "code",
      "source": [
        "print('coef:',model.coef_)\n",
        "print('a0:',model.intercept_)"
      ],
      "metadata": {
        "colab": {
          "base_uri": "https://localhost:8080/"
        },
        "id": "w2B4ww-HPAE0",
        "outputId": "2597746b-1935-424a-feb5-4dba700d20b3"
      },
      "execution_count": 8,
      "outputs": [
        {
          "output_type": "stream",
          "name": "stdout",
          "text": [
            "coef: [-4.89328798  0.73200038  0.02500329 -0.07112129  5.79670853 -5.20785598\n",
            " 10.87256666]\n",
            "a0: -27.56724101808443\n"
          ]
        }
      ]
    },
    {
      "cell_type": "code",
      "source": [
        "print('Actaul:',test_target[:10])\n",
        "print('Predicted:',predicted_target[:10])"
      ],
      "metadata": {
        "colab": {
          "base_uri": "https://localhost:8080/"
        },
        "id": "Tel71lyZPCQn",
        "outputId": "4a0d444c-27a8-4339-a653-e071a4d1c780"
      },
      "execution_count": 9,
      "outputs": [
        {
          "output_type": "stream",
          "name": "stdout",
          "text": [
            "Actaul: [13.   5.6  0.7 36.2 13.4 26.   3.8 10.6  1.5  1.7]\n",
            "Predicted: [24.78684089 12.12056292 -0.50811807 25.01647409 15.98093375 20.63360207\n",
            "  7.11023816 16.3812568   4.80056285  3.31033522]\n"
          ]
        }
      ]
    },
    {
      "cell_type": "code",
      "source": [
        "from sklearn.metrics import r2_score\n",
        "\n",
        "r2=r2_score(test_target,predicted_target)\n",
        "print('r2:',r2)        #r2 value eka 1 ta lan weddi hodai"
      ],
      "metadata": {
        "colab": {
          "base_uri": "https://localhost:8080/"
        },
        "id": "Dc1UHYJ7Pjx5",
        "outputId": "7a06e801-0907-4dd1-87ab-bf3646dfd78d"
      },
      "execution_count": 10,
      "outputs": [
        {
          "output_type": "stream",
          "name": "stdout",
          "text": [
            "r2: 0.7665971908903398\n"
          ]
        }
      ]
    },
    {
      "cell_type": "code",
      "source": [
        "import joblib\n",
        "\n",
        "joblib.dump(model,'/content/drive/MyDrive/machine learning/DAY 6 (Regression)/ML heart risk prediction regression model(my).sav')"
      ],
      "metadata": {
        "colab": {
          "base_uri": "https://localhost:8080/"
        },
        "id": "TXdHo371QOPY",
        "outputId": "17fd687b-2f19-4fef-9bb6-58b941cceabe"
      },
      "execution_count": 11,
      "outputs": [
        {
          "output_type": "execute_result",
          "data": {
            "text/plain": [
              "['/content/drive/MyDrive/machine learning/DAY 6 (Regression)/ML heart risk prediction regression model(my).sav']"
            ]
          },
          "metadata": {},
          "execution_count": 11
        }
      ]
    }
  ]
}